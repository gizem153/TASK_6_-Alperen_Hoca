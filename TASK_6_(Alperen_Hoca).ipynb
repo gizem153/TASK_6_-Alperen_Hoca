{
  "nbformat": 4,
  "nbformat_minor": 0,
  "metadata": {
    "colab": {
      "provenance": []
    },
    "kernelspec": {
      "name": "python3",
      "display_name": "Python 3"
    },
    "language_info": {
      "name": "python"
    }
  },
  "cells": [
    {
      "cell_type": "markdown",
      "source": [
        "1)Json-Dictionary arasındaki fark nedir?"
      ],
      "metadata": {
        "id": "ycuUEp8vJyRr"
      }
    },
    {
      "cell_type": "markdown",
      "source": [
        "  JSON, veri alışverişi için kolayca okunabilen ve yazılabilen, makineler tarafından kolayca ayrıştırılabilen ve oluşturulabilen hafif bir veri biçimidir.JSON tam bir dilden bağımsız metin biçimidir.\n",
        "  Python collection veri tiplerinden olan dictionary yani sözlük veri yapısı key ve value şeklinde verileri saklayabileceğimiz bir veri yapısıdır. Dictionary veri yapısı Json veri yapısına oldukça benzerdir.JSON bir platform olup ve dilden bağımsız bir biçimde sistemler arası veriyi aktarmanın bir yoludur.\n"
      ],
      "metadata": {
        "id": "Z4E6sYUvJ-pN"
      }
    },
    {
      "cell_type": "markdown",
      "source": [
        "1.2)Dumps Ne işe yarıyor?"
      ],
      "metadata": {
        "id": "ypfQyQPmLN4g"
      }
    },
    {
      "cell_type": "markdown",
      "source": [
        "Python verisini json’a dönüştürür."
      ],
      "metadata": {
        "id": "o7-I3sseLXpl"
      }
    },
    {
      "cell_type": "markdown",
      "source": [
        "1.3)Neden encode kullandık?"
      ],
      "metadata": {
        "id": "vTCMBxetLjri"
      }
    },
    {
      "cell_type": "markdown",
      "source": [
        "Encodingi binary verileri metne dönüştürerek saklamak ve iletmek için kulladık."
      ],
      "metadata": {
        "id": "jIOmUECGLnKq"
      }
    },
    {
      "cell_type": "markdown",
      "source": [
        "1.4)Neden data.encode.utf-8n şeklinde kullanmadık?"
      ],
      "metadata": {
        "id": "6SsRHgE-MTka"
      }
    },
    {
      "cell_type": "markdown",
      "source": [
        "UTF-8’e bakıldığı zaman daha kolay depolanır Ram de az yer tutar ve az zamanda yapar."
      ],
      "metadata": {
        "id": "eYpcvqsKMMjF"
      }
    },
    {
      "cell_type": "markdown",
      "source": [
        "2.1) Json dumps nedir?"
      ],
      "metadata": {
        "id": "PIVGDo6oMWV6"
      }
    },
    {
      "cell_type": "markdown",
      "source": [
        "json dumps json dosyasının yazılımcı için daha şık ve anışılır  bir şekilde görünmesini sağlayan metottur."
      ],
      "metadata": {
        "id": "lq2ieitSMd73"
      }
    },
    {
      "cell_type": "markdown",
      "source": [
        "2.2)json load nedir?"
      ],
      "metadata": {
        "id": "Cawl7eIXMr9W"
      }
    },
    {
      "cell_type": "markdown",
      "source": [
        "Bir JSON verisi json.loads() metodu ile Python'da dict (sözlük) türü bir nesneye dönüştürülebilir."
      ],
      "metadata": {
        "id": "tnUnkcanMul3"
      }
    },
    {
      "cell_type": "markdown",
      "source": [
        "3.1) Dockera girdikten sonra spesific bir container hangi networkta çalışıyor ?"
      ],
      "metadata": {
        "id": "jBss5x17M1t8"
      }
    },
    {
      "cell_type": "markdown",
      "source": [
        "bridge network"
      ],
      "metadata": {
        "id": "STTbBcmDNVVL"
      }
    },
    {
      "cell_type": "markdown",
      "source": [
        "3.2)Default IP nasıl bulunacak? Bir satırlık kod olarak yazılacak."
      ],
      "metadata": {
        "id": "0yYfIVECNE7U"
      }
    },
    {
      "cell_type": "markdown",
      "source": [
        "docker inspect -f “{{range.NetworkSettings.Networks}}{{.IPAddress}}{{end}}” ContainerID"
      ],
      "metadata": {
        "id": "_XuflJFpNTKT"
      }
    },
    {
      "cell_type": "markdown",
      "source": [
        "4.1) Kod json.dumps değil de json.dump ile deneyerek yazılacak."
      ],
      "metadata": {
        "id": "eeEIQNEcNWuC"
      }
    },
    {
      "cell_type": "markdown",
      "source": [
        "producer.send( OREDER_KAFKA_TOPİC, with open(\"sample.json\", \"w\") as outfile: json.dump(data, outfile) f = open(\"demofile.txt\", \"r\") f.read() )"
      ],
      "metadata": {
        "id": "F0nw8mzlNdAd"
      }
    },
    {
      "cell_type": "markdown",
      "source": [
        "5) Neden UTF-8 kullanıyoruz?"
      ],
      "metadata": {
        "id": "BqrkDp7nNeCm"
      }
    },
    {
      "cell_type": "markdown",
      "source": [
        "UTF-8 kullananarak  çoğu karakter desteklendi ve birçok işletim sistemi ve araçta desteklendi. utf-8 ietf tarafindan tum internet protokollerindeki standart encoding kabul edilmi$tir ve gerekli protokol implementasyonu tarafindan mutlaka en azindan desteklenmesi gereken encoding'dir."
      ],
      "metadata": {
        "id": "zwOBJ-g9NjFj"
      }
    },
    {
      "cell_type": "markdown",
      "source": [
        "6) 192.168.0.1 nedir ve 127.00.01 arasındaki fark nedir?\n"
      ],
      "metadata": {
        "id": "HBEPM7irNxDi"
      }
    },
    {
      "cell_type": "markdown",
      "source": [
        "192.168.0.1, yönetici paneline giriş yapmak için varsayılan IP adresidir.\n",
        "27.0.0.1, geri döngü İnternet protokolü (IP) adresidir, aynı zamanda localhosttur."
      ],
      "metadata": {
        "id": "IIpYxwewOMuY"
      }
    }
  ]
}